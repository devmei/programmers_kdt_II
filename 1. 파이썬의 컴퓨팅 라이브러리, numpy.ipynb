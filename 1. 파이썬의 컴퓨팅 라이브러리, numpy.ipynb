{
  "nbformat": 4,
  "nbformat_minor": 0,
  "metadata": {
    "kernelspec": {
      "display_name": "Python 3",
      "language": "python",
      "name": "python3"
    },
    "language_info": {
      "codemirror_mode": {
        "name": "ipython",
        "version": 3
      },
      "file_extension": ".py",
      "mimetype": "text/x-python",
      "name": "python",
      "nbconvert_exporter": "python",
      "pygments_lexer": "ipython3",
      "version": "3.9.0"
    },
    "colab": {
      "name": "1. 파이썬의 컴퓨팅 라이브러리, numpy.ipynb",
      "provenance": []
    },
    "accelerator": "GPU"
  },
  "cells": [
    {
      "cell_type": "markdown",
      "metadata": {
        "id": "cwMe15R4ZWvY"
      },
      "source": [
        "# 1. 파이썬의 컴퓨팅 라이브러리, numpy\n",
        "**numpy를 이용해서 데이터를 다뤄봅시다!**"
      ]
    },
    {
      "cell_type": "markdown",
      "metadata": {
        "id": "W0IMdG_JZWvt"
      },
      "source": [
        "### Our Goal\n",
        "1. Numpy 시작하기\n",
        "    - prerequisite : Python의 List\n",
        "    - numpy import하기\n",
        "    - numpy.array\n",
        "\n",
        "2. Numpy로 연산하기\n",
        "    - Vector - Scalar : elementwise! (+, -, *, /)\n",
        "    - Vector - Vector : elementwise / broadcasting (+, -, *, /)\n",
        "    - Indexing & Slicing\n",
        "3. Example : Linear Algebra with Numpy\n",
        "    1. basics\n",
        "    - 영벡터 : `.zeros()`\n",
        "    - 일벡터 : `.ones()`\n",
        "    - 대각행렬 : `.diag()`\n",
        "    - 항등행렬 : `.eye()`\n",
        "    - 행렬곱 : `@` / `.dot()`\n",
        "  \n",
        "    2. furthermore\n",
        "    - 트레이스 : `.trace()`\n",
        "    - 행렬식 : `.linalg.det()`\n",
        "    - 역행렬 : `.linalg.inv()`\n",
        "    - 고유값 : `.linalg.eig()`\n"
      ]
    },
    {
      "cell_type": "markdown",
      "metadata": {
        "id": "liEBx3H8ZWvv"
      },
      "source": [
        "## I. Numpy 시작하기"
      ]
    },
    {
      "cell_type": "markdown",
      "metadata": {
        "id": "dHFL8eLQZWvx"
      },
      "source": [
        "## II. Numpy로 연산하기"
      ]
    },
    {
      "cell_type": "markdown",
      "metadata": {
        "id": "wm3--PgwZWvy"
      },
      "source": [
        "## III. Numpy로 선형대수 지식 끼얹기"
      ]
    },
    {
      "cell_type": "markdown",
      "metadata": {
        "id": "Wskv5RJaZWvz"
      },
      "source": [
        "## IV. Exercises"
      ]
    },
    {
      "cell_type": "markdown",
      "metadata": {
        "id": "-UVT-H5lZWv0"
      },
      "source": [
        "### 1. 어떤 벡터가 주어졌을 때 L2 norm을 구하는 함수 `get_L2_norm()`을 작성하세요\n",
        "\n",
        "- **매개변수** : 1차원 벡터 (`np.array`)\n",
        "- **반환값** : 인자로 주어진 벡터의 L2 Norm값 (`number`)"
      ]
    },
    {
      "cell_type": "code",
      "metadata": {
        "colab": {
          "base_uri": "https://localhost:8080/"
        },
        "id": "3p82FGzuZWv1",
        "outputId": "f514737e-0c8f-4fa5-bfeb-a1392d3322c9"
      },
      "source": [
        "import numpy as np\n",
        "\n",
        "def get_L2_norm(arr):\n",
        "    return np.linalg.norm(arr)\n",
        "\n",
        "arr = np.array([1, 2, 3])\n",
        "print(get_L2_norm(arr))"
      ],
      "execution_count": 1,
      "outputs": [
        {
          "output_type": "stream",
          "text": [
            "3.7416573867739413\n"
          ],
          "name": "stdout"
        }
      ]
    },
    {
      "cell_type": "markdown",
      "metadata": {
        "id": "fuDkn6P2ZWv3"
      },
      "source": [
        "### 2. 어떤 행렬이 singular matrix인지 확인하는 함수 `is_singular()` 를 작성하세요\n",
        "\n",
        "- 매개변수 : 2차원 벡터(`np.array`)\n",
        "- 반환값 : 인자로 주어진 벡터가 singular하면 True, non-singular하면 False를 반환 "
      ]
    },
    {
      "cell_type": "code",
      "metadata": {
        "colab": {
          "base_uri": "https://localhost:8080/"
        },
        "id": "f0uIGm5MZWv5",
        "outputId": "d9d94339-f314-4979-801d-4bfd872d1f0f"
      },
      "source": [
        "import numpy as np\n",
        "\n",
        "def is_singular(arr):\n",
        "    return not bool(np.linalg.det(arr))\n",
        "\n",
        "arr = np.array([[2, 3], [1, 6]])  # 9.000000000000002\n",
        "print(is_singular(arr))\n",
        "\n",
        "arr = np.array([[1, 4, 7], [2, 5, 8], [3, 6, 9]])  # 0.0\n",
        "print(is_singular(arr))"
      ],
      "execution_count": 2,
      "outputs": [
        {
          "output_type": "stream",
          "text": [
            "False\n",
            "True\n"
          ],
          "name": "stdout"
        }
      ]
    }
  ]
}