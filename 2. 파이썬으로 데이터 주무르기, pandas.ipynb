{
  "nbformat": 4,
  "nbformat_minor": 0,
  "metadata": {
    "kernelspec": {
      "display_name": "Python 3",
      "language": "python",
      "name": "python3"
    },
    "language_info": {
      "codemirror_mode": {
        "name": "ipython",
        "version": 3
      },
      "file_extension": ".py",
      "mimetype": "text/x-python",
      "name": "python",
      "nbconvert_exporter": "python",
      "pygments_lexer": "ipython3",
      "version": "3.9.0"
    },
    "colab": {
      "name": "2. 파이썬으로 데이터 주무르기, pandas.ipynb",
      "provenance": [],
      "collapsed_sections": []
    },
    "accelerator": "GPU"
  },
  "cells": [
    {
      "cell_type": "markdown",
      "metadata": {
        "id": "M5m644iPBQJX"
      },
      "source": [
        "# 2. 파이썬으로 데이터 주무르기, pandas\n",
        "**pandas를 활용해서 데이터프레임을 다뤄봅시다.**"
      ]
    },
    {
      "cell_type": "markdown",
      "metadata": {
        "id": "kI8pyrDlBQJp"
      },
      "source": [
        "1. Pandas 시작하기\n",
        "    - prerequisite : Table\n",
        "    - pandas import하기\n",
        "   \n",
        "2. Pandas로 1차원 데이터 다루기 - Series \n",
        "    - Series 선언하기\n",
        "    - Series vs ndarray\n",
        "    - Series vs dict\n",
        "    - Series에 이름 붙이기\n",
        "3. Pandas로 2차원 데이터 다루기 - dataframe\n",
        "    - dataframe 선언하기\n",
        "    - from csv to dataframe\n",
        "    - dataframe 자료 접근하기\n",
        "\n",
        "[수업에 사용된 covid 데이터](https://www.kaggle.com/imdevskp/corona-virus-report)"
      ]
    },
    {
      "cell_type": "markdown",
      "metadata": {
        "id": "zny-UFsfBQJr"
      },
      "source": [
        "## I. pandas 시작하기"
      ]
    },
    {
      "cell_type": "markdown",
      "metadata": {
        "id": "vy3ckV3aBQJs"
      },
      "source": [
        "## II. pandas로 1차원 데이터 다루기 - Series"
      ]
    },
    {
      "cell_type": "markdown",
      "metadata": {
        "id": "VO2P9wIBBQJt"
      },
      "source": [
        "## III. Pandas로 2차원 데이터 다루기 - dataframe"
      ]
    },
    {
      "cell_type": "markdown",
      "metadata": {
        "id": "rlMoZuP8BQJu"
      },
      "source": [
        "## Mission:\n",
        "### 1. covid 데이터에서 100 case 대비 사망률(`Deaths / 100 Cases`)이 가장 높은 국가는?"
      ]
    },
    {
      "cell_type": "code",
      "metadata": {
        "colab": {
          "base_uri": "https://localhost:8080/"
        },
        "id": "svCEfWlsBQJv",
        "outputId": "ac8a5c24-ea8a-4ef1-875a-d658cc1211a2"
      },
      "source": [
        "import pandas as pd\n",
        "\n",
        "# covid = pd.read_csv(\"./country_wise_latest.csv\")\n",
        "covid = pd.read_csv(\"/content/drive/MyDrive/programmers_kdt_II/country_wise_latest.csv\")\n",
        "\n",
        "deaths = sorted(covid['Deaths / 100 Cases'])\n",
        "print(covid[covid['Deaths / 100 Cases'] == deaths[-1]])"
      ],
      "execution_count": 1,
      "outputs": [
        {
          "output_type": "stream",
          "text": [
            "    Country/Region  Confirmed  ...  1 week % increase             WHO Region\n",
            "184          Yemen       1691  ...               4.45  Eastern Mediterranean\n",
            "\n",
            "[1 rows x 15 columns]\n"
          ],
          "name": "stdout"
        }
      ]
    },
    {
      "cell_type": "markdown",
      "metadata": {
        "id": "FS9dvaqHBQJx"
      },
      "source": [
        "### 2. covid 데이터에서 신규 확진자가 없는 나라 중 WHO Region이 'Europe'를 모두 출력하면?  \n",
        "Hint : 한 줄에 동시에 두가지 조건을 Apply하는 경우 Warning이 발생할 수 있습니다."
      ]
    },
    {
      "cell_type": "code",
      "metadata": {
        "colab": {
          "base_uri": "https://localhost:8080/"
        },
        "id": "qJXF2aTGBQJy",
        "outputId": "1aff5949-b15c-47f0-c5c6-ce0117c38146"
      },
      "source": [
        "import pandas as pd\n",
        "\n",
        "# covid = pd.read_csv(\"./country_wise_latest.csv\")\n",
        "covid = pd.read_csv(\"/content/drive/MyDrive/programmers_kdt_II/country_wise_latest.csv\")\n",
        "\n",
        "europe = covid[covid['WHO Region'] == 'Europe']\n",
        "print(europe[europe['New cases'] == 0])"
      ],
      "execution_count": 2,
      "outputs": [
        {
          "output_type": "stream",
          "text": [
            "    Country/Region  Confirmed  ...  1 week % increase  WHO Region\n",
            "56         Estonia       2034  ...               0.64      Europe\n",
            "75        Holy See         12  ...               0.00      Europe\n",
            "95          Latvia       1219  ...               2.27      Europe\n",
            "100  Liechtenstein         86  ...               0.00      Europe\n",
            "113         Monaco        116  ...               6.42      Europe\n",
            "143     San Marino        699  ...               0.00      Europe\n",
            "157          Spain     272421  ...               2.86      Europe\n",
            "\n",
            "[7 rows x 15 columns]\n"
          ],
          "name": "stdout"
        }
      ]
    },
    {
      "cell_type": "markdown",
      "metadata": {
        "id": "62boYXtnBQJz"
      },
      "source": [
        "### 3. 다음 [데이터](https://www.kaggle.com/neuromusic/avocado-prices)를 이용해 각 Region별로 아보카도가 가장 비싼 평균가격(AveragePrice)을 출력하면?"
      ]
    },
    {
      "cell_type": "code",
      "metadata": {
        "colab": {
          "base_uri": "https://localhost:8080/"
        },
        "id": "sRynkSCaBQJ0",
        "outputId": "eefec5d1-db71-47c9-9463-e14812ee15c1"
      },
      "source": [
        "import pandas as pd\n",
        "\n",
        "# avocado = pd.read_csv(\"./avocado.csv\")\n",
        "avocado = pd.read_csv(\"/content/drive/MyDrive/programmers_kdt_II/avocado.csv\")\n",
        "\n",
        "print(avocado['AveragePrice'].groupby(by=avocado['region']).max())"
      ],
      "execution_count": 3,
      "outputs": [
        {
          "output_type": "stream",
          "text": [
            "region\n",
            "Albany                 2.13\n",
            "Atlanta                2.75\n",
            "BaltimoreWashington    2.28\n",
            "Boise                  2.79\n",
            "Boston                 2.19\n",
            "BuffaloRochester       2.57\n",
            "California             2.58\n",
            "Charlotte              2.83\n",
            "Chicago                2.30\n",
            "CincinnatiDayton       2.20\n",
            "Columbus               2.22\n",
            "DallasFtWorth          1.90\n",
            "Denver                 2.16\n",
            "Detroit                2.08\n",
            "GrandRapids            2.73\n",
            "GreatLakes             1.98\n",
            "HarrisburgScranton     2.27\n",
            "HartfordSpringfield    2.68\n",
            "Houston                1.92\n",
            "Indianapolis           2.10\n",
            "Jacksonville           2.99\n",
            "LasVegas               3.03\n",
            "LosAngeles             2.44\n",
            "Louisville             2.29\n",
            "MiamiFtLauderdale      3.05\n",
            "Midsouth               2.17\n",
            "Nashville              2.24\n",
            "NewOrleansMobile       2.32\n",
            "NewYork                2.65\n",
            "Northeast              2.31\n",
            "NorthernNewEngland     1.96\n",
            "Orlando                2.87\n",
            "Philadelphia           2.45\n",
            "PhoenixTucson          2.62\n",
            "Pittsburgh             1.83\n",
            "Plains                 2.13\n",
            "Portland               2.86\n",
            "RaleighGreensboro      3.04\n",
            "RichmondNorfolk        2.05\n",
            "Roanoke                2.27\n",
            "Sacramento             2.82\n",
            "SanDiego               2.74\n",
            "SanFrancisco           3.25\n",
            "Seattle                2.96\n",
            "SouthCarolina          2.21\n",
            "SouthCentral           1.81\n",
            "Southeast              2.33\n",
            "Spokane                2.95\n",
            "StLouis                2.84\n",
            "Syracuse               2.44\n",
            "Tampa                  3.17\n",
            "TotalUS                2.09\n",
            "West                   2.52\n",
            "WestTexNewMexico       2.93\n",
            "Name: AveragePrice, dtype: float64\n"
          ],
          "name": "stdout"
        }
      ]
    }
  ]
}