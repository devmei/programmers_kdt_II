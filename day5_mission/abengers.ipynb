{
  "nbformat": 4,
  "nbformat_minor": 0,
  "metadata": {
    "colab": {
      "name": "abengers.ipynb",
      "private_outputs": true,
      "provenance": [],
      "collapsed_sections": []
    },
    "kernelspec": {
      "name": "python3",
      "display_name": "Python 3"
    },
    "language_info": {
      "name": "python"
    }
  },
  "cells": [
    {
      "cell_type": "markdown",
      "metadata": {
        "id": "CXlu-X3exUj2"
      },
      "source": [
        "# **Mission 2.** Abengers, Assemble!"
      ]
    },
    {
      "cell_type": "code",
      "metadata": {
        "id": "cCGOLOgvyz37"
      },
      "source": [
        "## 라이브러리 불러오기\n",
        "\n",
        "import numpy as np\n",
        "import pandas as pd\n",
        "import matplotlib.pyplot as plt\n",
        "import seaborn as sns\n",
        "\n",
        "%matplotlib inline"
      ],
      "execution_count": null,
      "outputs": []
    },
    {
      "cell_type": "markdown",
      "metadata": {
        "id": "DCZhwGZu6-4d"
      },
      "source": [
        "### **Dataset** : [Marvel Superheroes](https://www.kaggle.com/dannielr/marvel-superheroes?select=charcters_stats.csv)"
      ]
    },
    {
      "cell_type": "code",
      "metadata": {
        "id": "EKcHc6TRyu3U"
      },
      "source": [
        "## 데이터 불러오기\n",
        "\n",
        "stats_df = pd.read_csv(\"/content/drive/MyDrive/programmers_kdt_II/day5_mission/charcters_stats.csv\")"
      ],
      "execution_count": null,
      "outputs": []
    },
    {
      "cell_type": "markdown",
      "metadata": {
        "id": "Jsk3tz7WxaDl"
      },
      "source": [
        "## **Core Mission**"
      ]
    },
    {
      "cell_type": "markdown",
      "metadata": {
        "id": "FcmzO8Q1xk0t"
      },
      "source": [
        "**다음 질문에 답하시오.**\n",
        "  * 캐릭터는 저마다 지능, 힘 등 다양한 수치를 지니고 있다.  \n",
        "  이러한 **수치의 합이 가장 큰 캐릭터**는 누구인가? 이를 보이기 위한 과정을 보여라.\n",
        "  * 좋은 캐릭터와 나쁜 캐릭터의 능력치들의 수치 분포를 알고 싶다.  \n",
        "  이를 표현하기 위한 적절한 그래프를 선택해서 이를 위한 전처리를 진행하고, 시각화하여라."
      ]
    },
    {
      "cell_type": "code",
      "metadata": {
        "id": "YamH5Qci3m1Q"
      },
      "source": [
        "## 상위 5개 데이터 확인하기\n",
        "\n",
        "stats_df.head(5)"
      ],
      "execution_count": null,
      "outputs": []
    },
    {
      "cell_type": "code",
      "metadata": {
        "id": "Be697BfI3s6Y"
      },
      "source": [
        "## 데이터 전체 정보\n",
        "\n",
        "stats_df.describe()"
      ],
      "execution_count": null,
      "outputs": []
    },
    {
      "cell_type": "code",
      "metadata": {
        "id": "LJxI9H-B3wpB"
      },
      "source": [
        "## 결측치 확인\n",
        "\n",
        "stats_df.isnull().sum()\n",
        "\n",
        "# Alignment 결측치 발견"
      ],
      "execution_count": null,
      "outputs": []
    },
    {
      "cell_type": "code",
      "metadata": {
        "id": "6LQwFRIyBZ7k"
      },
      "source": [
        "## 결측치 제거\n",
        "\n",
        "stats_df = stats_df.dropna()\n",
        "stats_df.isnull().sum()"
      ],
      "execution_count": null,
      "outputs": []
    },
    {
      "cell_type": "markdown",
      "metadata": {
        "id": "D8Yvt_q1CoN3"
      },
      "source": [
        "### **수치의 합이 가장 큰 캐릭터**는?"
      ]
    },
    {
      "cell_type": "code",
      "metadata": {
        "id": "Gi8cu2sYCnyZ"
      },
      "source": [
        "stats_df.sort_values('Total', ascending=False).head(1)"
      ],
      "execution_count": null,
      "outputs": []
    },
    {
      "cell_type": "markdown",
      "metadata": {
        "id": "XM9PEvJTDWI0"
      },
      "source": [
        "### 좋은 캐릭터와 나쁜 캐릭터의 능력치들의 수치 분포"
      ]
    },
    {
      "cell_type": "code",
      "metadata": {
        "id": "1EPI0XT_NNd1"
      },
      "source": [
        "## 캐릭터 특성에 따른 능력치 합에 대한 분포\n",
        "\n",
        "fig, ax = plt.subplots(1, 1, figsize=(10, 5))\n",
        "sns.kdeplot(x=stats_df[stats_df.Alignment == 'good']['Total'], ax=ax)\n",
        "sns.kdeplot(x=stats_df[stats_df.Alignment == 'bad']['Total'], ax=ax)\n",
        "\n",
        "plt.legend(['good', 'bad'])\n",
        "\n",
        "plt.show()"
      ],
      "execution_count": null,
      "outputs": []
    },
    {
      "cell_type": "code",
      "metadata": {
        "id": "jBAae-yqXesO"
      },
      "source": [
        "## 좋은 캐릭터 df\n",
        "\n",
        "stats_g_df = stats_df[stats_df['Alignment'] == 'good']\n",
        "stats_g_df.head(5)"
      ],
      "execution_count": null,
      "outputs": []
    },
    {
      "cell_type": "code",
      "metadata": {
        "id": "E4fknsAKeQQg"
      },
      "source": [
        "## 나쁜 캐릭터 df\n",
        "\n",
        "stats_b_df = stats_df[stats_df['Alignment'] == 'bad']\n",
        "stats_b_df.head(5)"
      ],
      "execution_count": null,
      "outputs": []
    },
    {
      "cell_type": "code",
      "metadata": {
        "id": "oNr5Kzh4YaGE"
      },
      "source": [
        "## 캐릭터 특성에 따른 능력치들 평균 df\n",
        "\n",
        "df = pd.DataFrame({\n",
        "        'Alignment': ['good', 'bad'],\n",
        "        'Intelligence': [stats_g_df['Intelligence'].mean(), stats_b_df['Intelligence'].mean()],\n",
        "        'Strength': [stats_g_df['Strength'].mean(), stats_b_df['Strength'].mean()],\n",
        "        'Speed': [stats_g_df['Speed'].mean(), stats_b_df['Speed'].mean()],\n",
        "        'Durability': [stats_g_df['Durability'].mean(), stats_b_df['Durability'].mean()],\n",
        "        'Power': [stats_g_df['Power'].mean(), stats_b_df['Power'].mean()],\n",
        "        'Combat': [stats_g_df['Combat'].mean(), stats_b_df['Combat'].mean()]\n",
        "    })\n",
        "df"
      ],
      "execution_count": null,
      "outputs": []
    },
    {
      "cell_type": "code",
      "metadata": {
        "id": "u1PNFU_jG7e3"
      },
      "source": [
        "## 능력치에 대한 방사형 그래프\n",
        "\n",
        "from math import pi\n",
        "\n",
        "\n",
        "labels = df.columns[1:]\n",
        "num_labels = len(labels)\n",
        "    \n",
        "angles = [x / float(num_labels) * (2 * pi) for x in range(num_labels)]\n",
        "angles += angles[:1]\n",
        "\n",
        "fig = plt.figure(figsize=(8, 8))\n",
        "\n",
        "ax = fig.add_subplot(polar=True)\n",
        "for i, row in df.iterrows():\n",
        "    data = df.iloc[i].drop('Alignment').tolist()\n",
        "    data += data[:1]\n",
        "\n",
        "    ax.set_rlabel_position(0)\n",
        "\n",
        "    ax.set_theta_offset(pi / 2)\n",
        "    ax.set_theta_direction(-1)\n",
        "\n",
        "    ax.tick_params(axis='x', which='major', pad=15)\n",
        "\n",
        "    ax.fill(angles, data, alpha=0.4)\n",
        "    ax.plot(angles, data, linewidth=2, linestyle='solid', label=row.Alignment)\n",
        "\n",
        "    plt.xticks(angles[:-1], labels, fontsize=13)\n",
        "\n",
        "plt.legend()\n",
        "\n",
        "plt.show()"
      ],
      "execution_count": null,
      "outputs": []
    },
    {
      "cell_type": "markdown",
      "metadata": {
        "id": "_JEnukp2xf7M"
      },
      "source": [
        "## **Extra Mission**"
      ]
    },
    {
      "cell_type": "markdown",
      "metadata": {
        "id": "9aCXb7WryAaz"
      },
      "source": [
        "**다음 질문에 답하시오.**\n",
        "  * 캐릭터는 저마다 지능, 힘 등 다양한 수치를 지니고 있다. 또한 각 캐릭터는 DC, 마블 등 다양한 코믹스 회사를 바탕으로 하고 있다.  \n",
        "  어떤 코믹스 회사의 캐릭터들이 능력치 합의 평균이 가장 큰가? 이를 보이기 위한 과정을 보여라.\n",
        "  * 좋은 캐릭터와 나쁜 캐릭터가 격돌한다고 한다. 격돌하는 경우 캐릭터들의 능력치의 합의 평균이 큰 팀이 이긴다고 한다.  \n",
        "단, 불의를 못참는 중립 캐릭터들은 중립캐릭터가 없었을 당시에 열세인 팀에 가담한다.  \n",
        "이러한 상황일때 결과적으로 어떤 캐릭터 진영이 승리할 것인가? 이를 보이기 위한 과정을 보여라.\n",
        "  * **이 데이터를 이용해 진행하고 싶은 EDA 및 시각화가 있다면 자유롭게 진행하여라.**  \n",
        "  * 이 과제는 핵심 임무 이후에 진행되어야 한다."
      ]
    }
  ]
}