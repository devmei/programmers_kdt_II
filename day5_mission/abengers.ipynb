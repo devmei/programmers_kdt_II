{
  "nbformat": 4,
  "nbformat_minor": 0,
  "metadata": {
    "colab": {
      "name": "abengers.ipynb",
      "provenance": [],
      "collapsed_sections": []
    },
    "kernelspec": {
      "name": "python3",
      "display_name": "Python 3"
    },
    "language_info": {
      "name": "python"
    },
    "accelerator": "GPU"
  },
  "cells": [
    {
      "cell_type": "markdown",
      "metadata": {
        "id": "CXlu-X3exUj2"
      },
      "source": [
        "# **Mission 2.** Abengers, Assemble!"
      ]
    },
    {
      "cell_type": "code",
      "metadata": {
        "id": "cCGOLOgvyz37"
      },
      "source": [
        "## 라이브러리 불러오기\n",
        "\n",
        "import numpy as np\n",
        "import pandas as pd\n",
        "import matplotlib.pyplot as plt\n",
        "import seaborn as sns\n",
        "\n",
        "%matplotlib inline"
      ],
      "execution_count": 1,
      "outputs": []
    },
    {
      "cell_type": "markdown",
      "metadata": {
        "id": "DCZhwGZu6-4d"
      },
      "source": [
        "### **Dataset** : [Marvel Superheroes](https://www.kaggle.com/dannielr/marvel-superheroes?select=charcters_stats.csv)"
      ]
    },
    {
      "cell_type": "code",
      "metadata": {
        "id": "EKcHc6TRyu3U"
      },
      "source": [
        "## 데이터 불러오기\n",
        "\n",
        "stats_df = pd.read_csv(\"/content/drive/MyDrive/programmers_kdt_II/day5_mission/charcters_stats.csv\")"
      ],
      "execution_count": 2,
      "outputs": []
    },
    {
      "cell_type": "markdown",
      "metadata": {
        "id": "Jsk3tz7WxaDl"
      },
      "source": [
        "## **Core Mission**"
      ]
    },
    {
      "cell_type": "markdown",
      "metadata": {
        "id": "FcmzO8Q1xk0t"
      },
      "source": [
        "**다음 질문에 답하시오.**\n",
        "  * 캐릭터는 저마다 지능, 힘 등 다양한 수치를 지니고 있다.  \n",
        "  이러한 **수치의 합이 가장 큰 캐릭터**는 누구인가? 이를 보이기 위한 과정을 보여라.\n",
        "  * 좋은 캐릭터와 나쁜 캐릭터의 능력치들의 수치 분포를 알고 싶다.  \n",
        "  이를 표현하기 위한 적절한 그래프를 선택해서 이를 위한 전처리를 진행하고, 시각화하여라."
      ]
    },
    {
      "cell_type": "code",
      "metadata": {
        "colab": {
          "base_uri": "https://localhost:8080/",
          "height": 204
        },
        "id": "YamH5Qci3m1Q",
        "outputId": "aca3da8b-af18-403c-a715-e3fb1a7477de"
      },
      "source": [
        "## 상위 5개 데이터 확인하기\n",
        "\n",
        "stats_df.head(5)"
      ],
      "execution_count": 3,
      "outputs": [
        {
          "output_type": "execute_result",
          "data": {
            "text/html": [
              "<div>\n",
              "<style scoped>\n",
              "    .dataframe tbody tr th:only-of-type {\n",
              "        vertical-align: middle;\n",
              "    }\n",
              "\n",
              "    .dataframe tbody tr th {\n",
              "        vertical-align: top;\n",
              "    }\n",
              "\n",
              "    .dataframe thead th {\n",
              "        text-align: right;\n",
              "    }\n",
              "</style>\n",
              "<table border=\"1\" class=\"dataframe\">\n",
              "  <thead>\n",
              "    <tr style=\"text-align: right;\">\n",
              "      <th></th>\n",
              "      <th>Name</th>\n",
              "      <th>Alignment</th>\n",
              "      <th>Intelligence</th>\n",
              "      <th>Strength</th>\n",
              "      <th>Speed</th>\n",
              "      <th>Durability</th>\n",
              "      <th>Power</th>\n",
              "      <th>Combat</th>\n",
              "      <th>Total</th>\n",
              "    </tr>\n",
              "  </thead>\n",
              "  <tbody>\n",
              "    <tr>\n",
              "      <th>0</th>\n",
              "      <td>3-D Man</td>\n",
              "      <td>good</td>\n",
              "      <td>50</td>\n",
              "      <td>31</td>\n",
              "      <td>43</td>\n",
              "      <td>32</td>\n",
              "      <td>25</td>\n",
              "      <td>52</td>\n",
              "      <td>233</td>\n",
              "    </tr>\n",
              "    <tr>\n",
              "      <th>1</th>\n",
              "      <td>A-Bomb</td>\n",
              "      <td>good</td>\n",
              "      <td>38</td>\n",
              "      <td>100</td>\n",
              "      <td>17</td>\n",
              "      <td>80</td>\n",
              "      <td>17</td>\n",
              "      <td>64</td>\n",
              "      <td>316</td>\n",
              "    </tr>\n",
              "    <tr>\n",
              "      <th>2</th>\n",
              "      <td>Abe Sapien</td>\n",
              "      <td>good</td>\n",
              "      <td>88</td>\n",
              "      <td>14</td>\n",
              "      <td>35</td>\n",
              "      <td>42</td>\n",
              "      <td>35</td>\n",
              "      <td>85</td>\n",
              "      <td>299</td>\n",
              "    </tr>\n",
              "    <tr>\n",
              "      <th>3</th>\n",
              "      <td>Abin Sur</td>\n",
              "      <td>good</td>\n",
              "      <td>50</td>\n",
              "      <td>90</td>\n",
              "      <td>53</td>\n",
              "      <td>64</td>\n",
              "      <td>84</td>\n",
              "      <td>65</td>\n",
              "      <td>406</td>\n",
              "    </tr>\n",
              "    <tr>\n",
              "      <th>4</th>\n",
              "      <td>Abomination</td>\n",
              "      <td>bad</td>\n",
              "      <td>63</td>\n",
              "      <td>80</td>\n",
              "      <td>53</td>\n",
              "      <td>90</td>\n",
              "      <td>55</td>\n",
              "      <td>95</td>\n",
              "      <td>436</td>\n",
              "    </tr>\n",
              "  </tbody>\n",
              "</table>\n",
              "</div>"
            ],
            "text/plain": [
              "          Name Alignment  Intelligence  ...  Power  Combat  Total\n",
              "0      3-D Man      good            50  ...     25      52    233\n",
              "1       A-Bomb      good            38  ...     17      64    316\n",
              "2   Abe Sapien      good            88  ...     35      85    299\n",
              "3     Abin Sur      good            50  ...     84      65    406\n",
              "4  Abomination       bad            63  ...     55      95    436\n",
              "\n",
              "[5 rows x 9 columns]"
            ]
          },
          "metadata": {
            "tags": []
          },
          "execution_count": 3
        }
      ]
    },
    {
      "cell_type": "code",
      "metadata": {
        "colab": {
          "base_uri": "https://localhost:8080/",
          "height": 297
        },
        "id": "Be697BfI3s6Y",
        "outputId": "eed15b7d-e0df-4e56-b70f-fb19a1110fb0"
      },
      "source": [
        "## 데이터 전체 정보\n",
        "\n",
        "stats_df.describe()"
      ],
      "execution_count": 4,
      "outputs": [
        {
          "output_type": "execute_result",
          "data": {
            "text/html": [
              "<div>\n",
              "<style scoped>\n",
              "    .dataframe tbody tr th:only-of-type {\n",
              "        vertical-align: middle;\n",
              "    }\n",
              "\n",
              "    .dataframe tbody tr th {\n",
              "        vertical-align: top;\n",
              "    }\n",
              "\n",
              "    .dataframe thead th {\n",
              "        text-align: right;\n",
              "    }\n",
              "</style>\n",
              "<table border=\"1\" class=\"dataframe\">\n",
              "  <thead>\n",
              "    <tr style=\"text-align: right;\">\n",
              "      <th></th>\n",
              "      <th>Intelligence</th>\n",
              "      <th>Strength</th>\n",
              "      <th>Speed</th>\n",
              "      <th>Durability</th>\n",
              "      <th>Power</th>\n",
              "      <th>Combat</th>\n",
              "      <th>Total</th>\n",
              "    </tr>\n",
              "  </thead>\n",
              "  <tbody>\n",
              "    <tr>\n",
              "      <th>count</th>\n",
              "      <td>611.000000</td>\n",
              "      <td>611.000000</td>\n",
              "      <td>611.000000</td>\n",
              "      <td>611.000000</td>\n",
              "      <td>611.000000</td>\n",
              "      <td>611.000000</td>\n",
              "      <td>611.000000</td>\n",
              "    </tr>\n",
              "    <tr>\n",
              "      <th>mean</th>\n",
              "      <td>44.502455</td>\n",
              "      <td>29.083470</td>\n",
              "      <td>27.306056</td>\n",
              "      <td>41.839607</td>\n",
              "      <td>40.312602</td>\n",
              "      <td>43.206219</td>\n",
              "      <td>226.250409</td>\n",
              "    </tr>\n",
              "    <tr>\n",
              "      <th>std</th>\n",
              "      <td>32.924722</td>\n",
              "      <td>32.610939</td>\n",
              "      <td>25.760173</td>\n",
              "      <td>36.543849</td>\n",
              "      <td>34.539910</td>\n",
              "      <td>33.270329</td>\n",
              "      <td>167.324034</td>\n",
              "    </tr>\n",
              "    <tr>\n",
              "      <th>min</th>\n",
              "      <td>1.000000</td>\n",
              "      <td>1.000000</td>\n",
              "      <td>1.000000</td>\n",
              "      <td>1.000000</td>\n",
              "      <td>0.000000</td>\n",
              "      <td>1.000000</td>\n",
              "      <td>5.000000</td>\n",
              "    </tr>\n",
              "    <tr>\n",
              "      <th>25%</th>\n",
              "      <td>1.000000</td>\n",
              "      <td>1.000000</td>\n",
              "      <td>1.000000</td>\n",
              "      <td>1.000000</td>\n",
              "      <td>0.000000</td>\n",
              "      <td>1.000000</td>\n",
              "      <td>5.000000</td>\n",
              "    </tr>\n",
              "    <tr>\n",
              "      <th>50%</th>\n",
              "      <td>50.000000</td>\n",
              "      <td>10.000000</td>\n",
              "      <td>23.000000</td>\n",
              "      <td>32.000000</td>\n",
              "      <td>37.000000</td>\n",
              "      <td>50.000000</td>\n",
              "      <td>255.000000</td>\n",
              "    </tr>\n",
              "    <tr>\n",
              "      <th>75%</th>\n",
              "      <td>75.000000</td>\n",
              "      <td>53.000000</td>\n",
              "      <td>42.000000</td>\n",
              "      <td>80.000000</td>\n",
              "      <td>67.000000</td>\n",
              "      <td>70.000000</td>\n",
              "      <td>351.500000</td>\n",
              "    </tr>\n",
              "    <tr>\n",
              "      <th>max</th>\n",
              "      <td>113.000000</td>\n",
              "      <td>100.000000</td>\n",
              "      <td>100.000000</td>\n",
              "      <td>120.000000</td>\n",
              "      <td>100.000000</td>\n",
              "      <td>101.000000</td>\n",
              "      <td>581.000000</td>\n",
              "    </tr>\n",
              "  </tbody>\n",
              "</table>\n",
              "</div>"
            ],
            "text/plain": [
              "       Intelligence    Strength       Speed  ...       Power      Combat       Total\n",
              "count    611.000000  611.000000  611.000000  ...  611.000000  611.000000  611.000000\n",
              "mean      44.502455   29.083470   27.306056  ...   40.312602   43.206219  226.250409\n",
              "std       32.924722   32.610939   25.760173  ...   34.539910   33.270329  167.324034\n",
              "min        1.000000    1.000000    1.000000  ...    0.000000    1.000000    5.000000\n",
              "25%        1.000000    1.000000    1.000000  ...    0.000000    1.000000    5.000000\n",
              "50%       50.000000   10.000000   23.000000  ...   37.000000   50.000000  255.000000\n",
              "75%       75.000000   53.000000   42.000000  ...   67.000000   70.000000  351.500000\n",
              "max      113.000000  100.000000  100.000000  ...  100.000000  101.000000  581.000000\n",
              "\n",
              "[8 rows x 7 columns]"
            ]
          },
          "metadata": {
            "tags": []
          },
          "execution_count": 4
        }
      ]
    },
    {
      "cell_type": "code",
      "metadata": {
        "colab": {
          "base_uri": "https://localhost:8080/"
        },
        "id": "LJxI9H-B3wpB",
        "outputId": "6723c7d6-a720-4ba1-b1c8-8a7fcfff5bcd"
      },
      "source": [
        "## 결측치 확인\n",
        "\n",
        "stats_df.isnull().sum()\n",
        "\n",
        "# Alignment 결측치 발견"
      ],
      "execution_count": 5,
      "outputs": [
        {
          "output_type": "execute_result",
          "data": {
            "text/plain": [
              "Name            0\n",
              "Alignment       3\n",
              "Intelligence    0\n",
              "Strength        0\n",
              "Speed           0\n",
              "Durability      0\n",
              "Power           0\n",
              "Combat          0\n",
              "Total           0\n",
              "dtype: int64"
            ]
          },
          "metadata": {
            "tags": []
          },
          "execution_count": 5
        }
      ]
    },
    {
      "cell_type": "code",
      "metadata": {
        "colab": {
          "base_uri": "https://localhost:8080/"
        },
        "id": "6LQwFRIyBZ7k",
        "outputId": "643a0194-17a4-4e1e-9c3c-af125fd9e1e8"
      },
      "source": [
        "## 결측치 제거\n",
        "\n",
        "stats_df = stats_df.dropna()\n",
        "stats_df.isnull().sum()"
      ],
      "execution_count": 6,
      "outputs": [
        {
          "output_type": "execute_result",
          "data": {
            "text/plain": [
              "Name            0\n",
              "Alignment       0\n",
              "Intelligence    0\n",
              "Strength        0\n",
              "Speed           0\n",
              "Durability      0\n",
              "Power           0\n",
              "Combat          0\n",
              "Total           0\n",
              "dtype: int64"
            ]
          },
          "metadata": {
            "tags": []
          },
          "execution_count": 6
        }
      ]
    },
    {
      "cell_type": "markdown",
      "metadata": {
        "id": "D8Yvt_q1CoN3"
      },
      "source": [
        "### **수치의 합이 가장 큰 캐릭터**는?"
      ]
    },
    {
      "cell_type": "code",
      "metadata": {
        "colab": {
          "base_uri": "https://localhost:8080/",
          "height": 80
        },
        "id": "Gi8cu2sYCnyZ",
        "outputId": "69c7058a-3092-481d-a498-60037fb5e67e"
      },
      "source": [
        "stats_df.sort_values('Total', ascending=False).head(1)"
      ],
      "execution_count": 7,
      "outputs": [
        {
          "output_type": "execute_result",
          "data": {
            "text/html": [
              "<div>\n",
              "<style scoped>\n",
              "    .dataframe tbody tr th:only-of-type {\n",
              "        vertical-align: middle;\n",
              "    }\n",
              "\n",
              "    .dataframe tbody tr th {\n",
              "        vertical-align: top;\n",
              "    }\n",
              "\n",
              "    .dataframe thead th {\n",
              "        text-align: right;\n",
              "    }\n",
              "</style>\n",
              "<table border=\"1\" class=\"dataframe\">\n",
              "  <thead>\n",
              "    <tr style=\"text-align: right;\">\n",
              "      <th></th>\n",
              "      <th>Name</th>\n",
              "      <th>Alignment</th>\n",
              "      <th>Intelligence</th>\n",
              "      <th>Strength</th>\n",
              "      <th>Speed</th>\n",
              "      <th>Durability</th>\n",
              "      <th>Power</th>\n",
              "      <th>Combat</th>\n",
              "      <th>Total</th>\n",
              "    </tr>\n",
              "  </thead>\n",
              "  <tbody>\n",
              "    <tr>\n",
              "      <th>361</th>\n",
              "      <td>Martian Manhunter</td>\n",
              "      <td>good</td>\n",
              "      <td>100</td>\n",
              "      <td>100</td>\n",
              "      <td>96</td>\n",
              "      <td>100</td>\n",
              "      <td>100</td>\n",
              "      <td>85</td>\n",
              "      <td>581</td>\n",
              "    </tr>\n",
              "  </tbody>\n",
              "</table>\n",
              "</div>"
            ],
            "text/plain": [
              "                  Name Alignment  Intelligence  ...  Power  Combat  Total\n",
              "361  Martian Manhunter      good           100  ...    100      85    581\n",
              "\n",
              "[1 rows x 9 columns]"
            ]
          },
          "metadata": {
            "tags": []
          },
          "execution_count": 7
        }
      ]
    },
    {
      "cell_type": "markdown",
      "metadata": {
        "id": "XM9PEvJTDWI0"
      },
      "source": [
        "### 좋은 캐릭터와 나쁜 캐릭터의 능력치들의 수치 분포"
      ]
    },
    {
      "cell_type": "code",
      "metadata": {
        "colab": {
          "base_uri": "https://localhost:8080/",
          "height": 334
        },
        "id": "1EPI0XT_NNd1",
        "outputId": "4cfa3e70-85a1-429f-c15c-ef49d0affb41"
      },
      "source": [
        "## 캐릭터 특성에 따른 능력치 합에 대한 분포\n",
        "\n",
        "fig, ax = plt.subplots(1, 1, figsize=(10, 5))\n",
        "sns.kdeplot(x=stats_df[stats_df.Alignment == 'good']['Total'], ax=ax)\n",
        "sns.kdeplot(x=stats_df[stats_df.Alignment == 'bad']['Total'], ax=ax)\n",
        "\n",
        "plt.legend(['good', 'bad'])\n",
        "\n",
        "plt.show()"
      ],
      "execution_count": 8,
      "outputs": [
        {
          "output_type": "display_data",
          "data": {
            "image/png": "[encoded data removed]",
            "text/plain": [
              "<Figure size 720x360 with 1 Axes>"
            ]
          },
          "metadata": {
            "tags": [],
            "needs_background": "light"
          }
        }
      ]
    },
    {
      "cell_type": "code",
      "metadata": {
        "colab": {
          "base_uri": "https://localhost:8080/",
          "height": 204
        },
        "id": "jBAae-yqXesO",
        "outputId": "9f804d2d-33fc-47e3-86fa-4646ee615d39"
      },
      "source": [
        "## 좋은 캐릭터 df\n",
        "\n",
        "stats_g_df = stats_df[stats_df['Alignment'] == 'good']\n",
        "stats_g_df.head(5)"
      ],
      "execution_count": 9,
      "outputs": [
        {
          "output_type": "execute_result",
          "data": {
            "text/html": [
              "<div>\n",
              "<style scoped>\n",
              "    .dataframe tbody tr th:only-of-type {\n",
              "        vertical-align: middle;\n",
              "    }\n",
              "\n",
              "    .dataframe tbody tr th {\n",
              "        vertical-align: top;\n",
              "    }\n",
              "\n",
              "    .dataframe thead th {\n",
              "        text-align: right;\n",
              "    }\n",
              "</style>\n",
              "<table border=\"1\" class=\"dataframe\">\n",
              "  <thead>\n",
              "    <tr style=\"text-align: right;\">\n",
              "      <th></th>\n",
              "      <th>Name</th>\n",
              "      <th>Alignment</th>\n",
              "      <th>Intelligence</th>\n",
              "      <th>Strength</th>\n",
              "      <th>Speed</th>\n",
              "      <th>Durability</th>\n",
              "      <th>Power</th>\n",
              "      <th>Combat</th>\n",
              "      <th>Total</th>\n",
              "    </tr>\n",
              "  </thead>\n",
              "  <tbody>\n",
              "    <tr>\n",
              "      <th>0</th>\n",
              "      <td>3-D Man</td>\n",
              "      <td>good</td>\n",
              "      <td>50</td>\n",
              "      <td>31</td>\n",
              "      <td>43</td>\n",
              "      <td>32</td>\n",
              "      <td>25</td>\n",
              "      <td>52</td>\n",
              "      <td>233</td>\n",
              "    </tr>\n",
              "    <tr>\n",
              "      <th>1</th>\n",
              "      <td>A-Bomb</td>\n",
              "      <td>good</td>\n",
              "      <td>38</td>\n",
              "      <td>100</td>\n",
              "      <td>17</td>\n",
              "      <td>80</td>\n",
              "      <td>17</td>\n",
              "      <td>64</td>\n",
              "      <td>316</td>\n",
              "    </tr>\n",
              "    <tr>\n",
              "      <th>2</th>\n",
              "      <td>Abe Sapien</td>\n",
              "      <td>good</td>\n",
              "      <td>88</td>\n",
              "      <td>14</td>\n",
              "      <td>35</td>\n",
              "      <td>42</td>\n",
              "      <td>35</td>\n",
              "      <td>85</td>\n",
              "      <td>299</td>\n",
              "    </tr>\n",
              "    <tr>\n",
              "      <th>3</th>\n",
              "      <td>Abin Sur</td>\n",
              "      <td>good</td>\n",
              "      <td>50</td>\n",
              "      <td>90</td>\n",
              "      <td>53</td>\n",
              "      <td>64</td>\n",
              "      <td>84</td>\n",
              "      <td>65</td>\n",
              "      <td>406</td>\n",
              "    </tr>\n",
              "    <tr>\n",
              "      <th>6</th>\n",
              "      <td>Adam Monroe</td>\n",
              "      <td>good</td>\n",
              "      <td>63</td>\n",
              "      <td>10</td>\n",
              "      <td>12</td>\n",
              "      <td>100</td>\n",
              "      <td>71</td>\n",
              "      <td>64</td>\n",
              "      <td>320</td>\n",
              "    </tr>\n",
              "  </tbody>\n",
              "</table>\n",
              "</div>"
            ],
            "text/plain": [
              "          Name Alignment  Intelligence  ...  Power  Combat  Total\n",
              "0      3-D Man      good            50  ...     25      52    233\n",
              "1       A-Bomb      good            38  ...     17      64    316\n",
              "2   Abe Sapien      good            88  ...     35      85    299\n",
              "3     Abin Sur      good            50  ...     84      65    406\n",
              "6  Adam Monroe      good            63  ...     71      64    320\n",
              "\n",
              "[5 rows x 9 columns]"
            ]
          },
          "metadata": {
            "tags": []
          },
          "execution_count": 9
        }
      ]
    },
    {
      "cell_type": "code",
      "metadata": {
        "colab": {
          "base_uri": "https://localhost:8080/",
          "height": 204
        },
        "id": "E4fknsAKeQQg",
        "outputId": "85cfb4c7-a635-4b65-cf7d-dad16ab17889"
      },
      "source": [
        "## 나쁜 캐릭터 df\n",
        "\n",
        "stats_b_df = stats_df[stats_df['Alignment'] == 'bad']\n",
        "stats_b_df.head(5)"
      ],
      "execution_count": 10,
      "outputs": [
        {
          "output_type": "execute_result",
          "data": {
            "text/html": [
              "<div>\n",
              "<style scoped>\n",
              "    .dataframe tbody tr th:only-of-type {\n",
              "        vertical-align: middle;\n",
              "    }\n",
              "\n",
              "    .dataframe tbody tr th {\n",
              "        vertical-align: top;\n",
              "    }\n",
              "\n",
              "    .dataframe thead th {\n",
              "        text-align: right;\n",
              "    }\n",
              "</style>\n",
              "<table border=\"1\" class=\"dataframe\">\n",
              "  <thead>\n",
              "    <tr style=\"text-align: right;\">\n",
              "      <th></th>\n",
              "      <th>Name</th>\n",
              "      <th>Alignment</th>\n",
              "      <th>Intelligence</th>\n",
              "      <th>Strength</th>\n",
              "      <th>Speed</th>\n",
              "      <th>Durability</th>\n",
              "      <th>Power</th>\n",
              "      <th>Combat</th>\n",
              "      <th>Total</th>\n",
              "    </tr>\n",
              "  </thead>\n",
              "  <tbody>\n",
              "    <tr>\n",
              "      <th>4</th>\n",
              "      <td>Abomination</td>\n",
              "      <td>bad</td>\n",
              "      <td>63</td>\n",
              "      <td>80</td>\n",
              "      <td>53</td>\n",
              "      <td>90</td>\n",
              "      <td>55</td>\n",
              "      <td>95</td>\n",
              "      <td>436</td>\n",
              "    </tr>\n",
              "    <tr>\n",
              "      <th>5</th>\n",
              "      <td>Abraxas</td>\n",
              "      <td>bad</td>\n",
              "      <td>88</td>\n",
              "      <td>100</td>\n",
              "      <td>83</td>\n",
              "      <td>99</td>\n",
              "      <td>100</td>\n",
              "      <td>56</td>\n",
              "      <td>526</td>\n",
              "    </tr>\n",
              "    <tr>\n",
              "      <th>11</th>\n",
              "      <td>Air-Walker</td>\n",
              "      <td>bad</td>\n",
              "      <td>50</td>\n",
              "      <td>85</td>\n",
              "      <td>100</td>\n",
              "      <td>85</td>\n",
              "      <td>100</td>\n",
              "      <td>40</td>\n",
              "      <td>460</td>\n",
              "    </tr>\n",
              "    <tr>\n",
              "      <th>16</th>\n",
              "      <td>Amazo</td>\n",
              "      <td>bad</td>\n",
              "      <td>75</td>\n",
              "      <td>100</td>\n",
              "      <td>100</td>\n",
              "      <td>100</td>\n",
              "      <td>100</td>\n",
              "      <td>100</td>\n",
              "      <td>575</td>\n",
              "    </tr>\n",
              "    <tr>\n",
              "      <th>17</th>\n",
              "      <td>Ammo</td>\n",
              "      <td>bad</td>\n",
              "      <td>1</td>\n",
              "      <td>1</td>\n",
              "      <td>1</td>\n",
              "      <td>1</td>\n",
              "      <td>0</td>\n",
              "      <td>1</td>\n",
              "      <td>5</td>\n",
              "    </tr>\n",
              "  </tbody>\n",
              "</table>\n",
              "</div>"
            ],
            "text/plain": [
              "           Name Alignment  Intelligence  ...  Power  Combat  Total\n",
              "4   Abomination       bad            63  ...     55      95    436\n",
              "5       Abraxas       bad            88  ...    100      56    526\n",
              "11   Air-Walker       bad            50  ...    100      40    460\n",
              "16        Amazo       bad            75  ...    100     100    575\n",
              "17         Ammo       bad             1  ...      0       1      5\n",
              "\n",
              "[5 rows x 9 columns]"
            ]
          },
          "metadata": {
            "tags": []
          },
          "execution_count": 10
        }
      ]
    },
    {
      "cell_type": "code",
      "metadata": {
        "colab": {
          "base_uri": "https://localhost:8080/",
          "height": 111
        },
        "id": "oNr5Kzh4YaGE",
        "outputId": "59a8e183-d2ab-45b4-e81e-2800d2cd92e5"
      },
      "source": [
        "## 캐릭터 특성에 따른 능력치들 평균 df\n",
        "\n",
        "df = pd.DataFrame({\n",
        "        'Alignment': ['good', 'bad'],\n",
        "        'Intelligence': [stats_g_df['Intelligence'].mean(), stats_b_df['Intelligence'].mean()],\n",
        "        'Strength': [stats_g_df['Strength'].mean(), stats_b_df['Strength'].mean()],\n",
        "        'Speed': [stats_g_df['Speed'].mean(), stats_b_df['Speed'].mean()],\n",
        "        'Durability': [stats_g_df['Durability'].mean(), stats_b_df['Durability'].mean()],\n",
        "        'Power': [stats_g_df['Power'].mean(), stats_b_df['Power'].mean()],\n",
        "        'Combat': [stats_g_df['Combat'].mean(), stats_b_df['Combat'].mean()]\n",
        "    })\n",
        "df"
      ],
      "execution_count": 11,
      "outputs": [
        {
          "output_type": "execute_result",
          "data": {
            "text/html": [
              "<div>\n",
              "<style scoped>\n",
              "    .dataframe tbody tr th:only-of-type {\n",
              "        vertical-align: middle;\n",
              "    }\n",
              "\n",
              "    .dataframe tbody tr th {\n",
              "        vertical-align: top;\n",
              "    }\n",
              "\n",
              "    .dataframe thead th {\n",
              "        text-align: right;\n",
              "    }\n",
              "</style>\n",
              "<table border=\"1\" class=\"dataframe\">\n",
              "  <thead>\n",
              "    <tr style=\"text-align: right;\">\n",
              "      <th></th>\n",
              "      <th>Alignment</th>\n",
              "      <th>Intelligence</th>\n",
              "      <th>Strength</th>\n",
              "      <th>Speed</th>\n",
              "      <th>Durability</th>\n",
              "      <th>Power</th>\n",
              "      <th>Combat</th>\n",
              "    </tr>\n",
              "  </thead>\n",
              "  <tbody>\n",
              "    <tr>\n",
              "      <th>0</th>\n",
              "      <td>good</td>\n",
              "      <td>41.995370</td>\n",
              "      <td>26.638889</td>\n",
              "      <td>26.685185</td>\n",
              "      <td>39.293981</td>\n",
              "      <td>38.291667</td>\n",
              "      <td>42.085648</td>\n",
              "    </tr>\n",
              "    <tr>\n",
              "      <th>1</th>\n",
              "      <td>bad</td>\n",
              "      <td>50.018182</td>\n",
              "      <td>34.363636</td>\n",
              "      <td>27.684848</td>\n",
              "      <td>46.284848</td>\n",
              "      <td>44.230303</td>\n",
              "      <td>44.630303</td>\n",
              "    </tr>\n",
              "  </tbody>\n",
              "</table>\n",
              "</div>"
            ],
            "text/plain": [
              "  Alignment  Intelligence   Strength  ...  Durability      Power     Combat\n",
              "0      good     41.995370  26.638889  ...   39.293981  38.291667  42.085648\n",
              "1       bad     50.018182  34.363636  ...   46.284848  44.230303  44.630303\n",
              "\n",
              "[2 rows x 7 columns]"
            ]
          },
          "metadata": {
            "tags": []
          },
          "execution_count": 11
        }
      ]
    },
    {
      "cell_type": "code",
      "metadata": {
        "colab": {
          "base_uri": "https://localhost:8080/",
          "height": 530
        },
        "id": "u1PNFU_jG7e3",
        "outputId": "9b8d65e3-7cfc-48b8-efa3-0ebc52c6c53c"
      },
      "source": [
        "## 능력치에 대한 방사형 그래프\n",
        "\n",
        "from math import pi\n",
        "\n",
        "\n",
        "labels = df.columns[1:]\n",
        "num_labels = len(labels)\n",
        "    \n",
        "angles = [x / float(num_labels) * (2 * pi) for x in range(num_labels)]\n",
        "angles += angles[:1]\n",
        "\n",
        "fig = plt.figure(figsize=(8, 8))\n",
        "\n",
        "ax = fig.add_subplot(polar=True)\n",
        "for i, row in df.iterrows():\n",
        "    data = df.iloc[i].drop('Alignment').tolist()\n",
        "    data += data[:1]\n",
        "\n",
        "    ax.set_rlabel_position(0)\n",
        "\n",
        "    ax.set_theta_offset(pi / 2)\n",
        "    ax.set_theta_direction(-1)\n",
        "\n",
        "    ax.tick_params(axis='x', which='major', pad=15)\n",
        "\n",
        "    ax.fill(angles, data, alpha=0.4)\n",
        "    ax.plot(angles, data, linewidth=2, linestyle='solid', label=row.Alignment)\n",
        "\n",
        "    plt.xticks(angles[:-1], labels, fontsize=13)\n",
        "\n",
        "plt.legend()\n",
        "\n",
        "plt.show()"
      ],
      "execution_count": 12,
      "outputs": [
        {
          "output_type": "display_data",
          "data": {
            "image/png": "[encoded data removed]",
            "text/plain": [
              "<Figure size 576x576 with 1 Axes>"
            ]
          },
          "metadata": {
            "tags": [],
            "needs_background": "light"
          }
        }
      ]
    },
    {
      "cell_type": "markdown",
      "metadata": {
        "id": "OIRNi9DUtUnm"
      },
      "source": [
        "좋은 캐릭터보다 나쁜 캐릭터의 평균 능력치가 높다."
      ]
    },
    {
      "cell_type": "markdown",
      "metadata": {
        "id": "_JEnukp2xf7M"
      },
      "source": [
        "## **Extra Mission**"
      ]
    },
    {
      "cell_type": "markdown",
      "metadata": {
        "id": "9aCXb7WryAaz"
      },
      "source": [
        "**다음 질문에 답하시오.**\n",
        "  * 캐릭터는 저마다 지능, 힘 등 다양한 수치를 지니고 있다. 또한 각 캐릭터는 DC, 마블 등 다양한 코믹스 회사를 바탕으로 하고 있다.  \n",
        "  어떤 코믹스 회사의 캐릭터들이 능력치 합의 평균이 가장 큰가? 이를 보이기 위한 과정을 보여라.\n",
        "  * 좋은 캐릭터와 나쁜 캐릭터가 격돌한다고 한다. 격돌하는 경우 캐릭터들의 능력치의 합의 평균이 큰 팀이 이긴다고 한다.  \n",
        "단, 불의를 못참는 중립 캐릭터들은 중립캐릭터가 없었을 당시에 열세인 팀에 가담한다.  \n",
        "이러한 상황일때 결과적으로 어떤 캐릭터 진영이 승리할 것인가? 이를 보이기 위한 과정을 보여라.\n",
        "  * **이 데이터를 이용해 진행하고 싶은 EDA 및 시각화가 있다면 자유롭게 진행하여라.**  \n",
        "  * 이 과제는 핵심 임무 이후에 진행되어야 한다."
      ]
    },
    {
      "cell_type": "code",
      "metadata": {
        "id": "_t6xxrp3tHO5"
      },
      "source": [
        "## 데이터 불러오기\n",
        "\n",
        "info_df = pd.read_csv(\"/content/drive/MyDrive/programmers_kdt_II/day5_mission/marvel_characters_info.csv\")"
      ],
      "execution_count": 13,
      "outputs": []
    },
    {
      "cell_type": "code",
      "metadata": {
        "colab": {
          "base_uri": "https://localhost:8080/",
          "height": 204
        },
        "id": "DCQxvFZE50nR",
        "outputId": "c2438c41-0ff3-45a8-f061-83b5cf93ce05"
      },
      "source": [
        "## 상위 5개 데이터 확인하기\n",
        "\n",
        "info_df.head(5)"
      ],
      "execution_count": 14,
      "outputs": [
        {
          "output_type": "execute_result",
          "data": {
            "text/html": [
              "<div>\n",
              "<style scoped>\n",
              "    .dataframe tbody tr th:only-of-type {\n",
              "        vertical-align: middle;\n",
              "    }\n",
              "\n",
              "    .dataframe tbody tr th {\n",
              "        vertical-align: top;\n",
              "    }\n",
              "\n",
              "    .dataframe thead th {\n",
              "        text-align: right;\n",
              "    }\n",
              "</style>\n",
              "<table border=\"1\" class=\"dataframe\">\n",
              "  <thead>\n",
              "    <tr style=\"text-align: right;\">\n",
              "      <th></th>\n",
              "      <th>ID</th>\n",
              "      <th>Name</th>\n",
              "      <th>Alignment</th>\n",
              "      <th>Gender</th>\n",
              "      <th>EyeColor</th>\n",
              "      <th>Race</th>\n",
              "      <th>HairColor</th>\n",
              "      <th>Publisher</th>\n",
              "      <th>SkinColor</th>\n",
              "      <th>Height</th>\n",
              "      <th>Weight</th>\n",
              "    </tr>\n",
              "  </thead>\n",
              "  <tbody>\n",
              "    <tr>\n",
              "      <th>0</th>\n",
              "      <td>0</td>\n",
              "      <td>A-Bomb</td>\n",
              "      <td>good</td>\n",
              "      <td>Male</td>\n",
              "      <td>yellow</td>\n",
              "      <td>Human</td>\n",
              "      <td>No Hair</td>\n",
              "      <td>Marvel Comics</td>\n",
              "      <td>-</td>\n",
              "      <td>203.0</td>\n",
              "      <td>441.0</td>\n",
              "    </tr>\n",
              "    <tr>\n",
              "      <th>1</th>\n",
              "      <td>1</td>\n",
              "      <td>Abe Sapien</td>\n",
              "      <td>good</td>\n",
              "      <td>Male</td>\n",
              "      <td>blue</td>\n",
              "      <td>Icthyo Sapien</td>\n",
              "      <td>No Hair</td>\n",
              "      <td>Dark Horse Comics</td>\n",
              "      <td>blue</td>\n",
              "      <td>191.0</td>\n",
              "      <td>65.0</td>\n",
              "    </tr>\n",
              "    <tr>\n",
              "      <th>2</th>\n",
              "      <td>2</td>\n",
              "      <td>Abin Sur</td>\n",
              "      <td>good</td>\n",
              "      <td>Male</td>\n",
              "      <td>blue</td>\n",
              "      <td>Ungaran</td>\n",
              "      <td>No Hair</td>\n",
              "      <td>DC Comics</td>\n",
              "      <td>red</td>\n",
              "      <td>185.0</td>\n",
              "      <td>90.0</td>\n",
              "    </tr>\n",
              "    <tr>\n",
              "      <th>3</th>\n",
              "      <td>3</td>\n",
              "      <td>Abomination</td>\n",
              "      <td>bad</td>\n",
              "      <td>Male</td>\n",
              "      <td>green</td>\n",
              "      <td>Human / Radiation</td>\n",
              "      <td>No Hair</td>\n",
              "      <td>Marvel Comics</td>\n",
              "      <td>-</td>\n",
              "      <td>203.0</td>\n",
              "      <td>441.0</td>\n",
              "    </tr>\n",
              "    <tr>\n",
              "      <th>4</th>\n",
              "      <td>4</td>\n",
              "      <td>Abraxas</td>\n",
              "      <td>bad</td>\n",
              "      <td>Male</td>\n",
              "      <td>blue</td>\n",
              "      <td>Cosmic Entity</td>\n",
              "      <td>Black</td>\n",
              "      <td>Marvel Comics</td>\n",
              "      <td>-</td>\n",
              "      <td>-99.0</td>\n",
              "      <td>-99.0</td>\n",
              "    </tr>\n",
              "  </tbody>\n",
              "</table>\n",
              "</div>"
            ],
            "text/plain": [
              "   ID         Name Alignment  ... SkinColor Height Weight\n",
              "0   0       A-Bomb      good  ...         -  203.0  441.0\n",
              "1   1   Abe Sapien      good  ...      blue  191.0   65.0\n",
              "2   2     Abin Sur      good  ...       red  185.0   90.0\n",
              "3   3  Abomination       bad  ...         -  203.0  441.0\n",
              "4   4      Abraxas       bad  ...         -  -99.0  -99.0\n",
              "\n",
              "[5 rows x 11 columns]"
            ]
          },
          "metadata": {
            "tags": []
          },
          "execution_count": 14
        }
      ]
    },
    {
      "cell_type": "code",
      "metadata": {
        "colab": {
          "base_uri": "https://localhost:8080/",
          "height": 204
        },
        "id": "AEXzoRgT6Slz",
        "outputId": "2f924722-cab2-40b0-903f-4fdd9eb80aa0"
      },
      "source": [
        "## 데이터 병합\n",
        "\n",
        "df = pd.DataFrame({\n",
        "    \"Name\": info_df['Name'],\n",
        "    \"Publisher\": info_df['Publisher']\n",
        "})\n",
        "\n",
        "merge_df = pd.merge(stats_df, df, on=\"Name\")\n",
        "merge_df.head(5)"
      ],
      "execution_count": 15,
      "outputs": [
        {
          "output_type": "execute_result",
          "data": {
            "text/html": [
              "<div>\n",
              "<style scoped>\n",
              "    .dataframe tbody tr th:only-of-type {\n",
              "        vertical-align: middle;\n",
              "    }\n",
              "\n",
              "    .dataframe tbody tr th {\n",
              "        vertical-align: top;\n",
              "    }\n",
              "\n",
              "    .dataframe thead th {\n",
              "        text-align: right;\n",
              "    }\n",
              "</style>\n",
              "<table border=\"1\" class=\"dataframe\">\n",
              "  <thead>\n",
              "    <tr style=\"text-align: right;\">\n",
              "      <th></th>\n",
              "      <th>Name</th>\n",
              "      <th>Alignment</th>\n",
              "      <th>Intelligence</th>\n",
              "      <th>Strength</th>\n",
              "      <th>Speed</th>\n",
              "      <th>Durability</th>\n",
              "      <th>Power</th>\n",
              "      <th>Combat</th>\n",
              "      <th>Total</th>\n",
              "      <th>Publisher</th>\n",
              "    </tr>\n",
              "  </thead>\n",
              "  <tbody>\n",
              "    <tr>\n",
              "      <th>0</th>\n",
              "      <td>A-Bomb</td>\n",
              "      <td>good</td>\n",
              "      <td>38</td>\n",
              "      <td>100</td>\n",
              "      <td>17</td>\n",
              "      <td>80</td>\n",
              "      <td>17</td>\n",
              "      <td>64</td>\n",
              "      <td>316</td>\n",
              "      <td>Marvel Comics</td>\n",
              "    </tr>\n",
              "    <tr>\n",
              "      <th>1</th>\n",
              "      <td>Abe Sapien</td>\n",
              "      <td>good</td>\n",
              "      <td>88</td>\n",
              "      <td>14</td>\n",
              "      <td>35</td>\n",
              "      <td>42</td>\n",
              "      <td>35</td>\n",
              "      <td>85</td>\n",
              "      <td>299</td>\n",
              "      <td>Dark Horse Comics</td>\n",
              "    </tr>\n",
              "    <tr>\n",
              "      <th>2</th>\n",
              "      <td>Abin Sur</td>\n",
              "      <td>good</td>\n",
              "      <td>50</td>\n",
              "      <td>90</td>\n",
              "      <td>53</td>\n",
              "      <td>64</td>\n",
              "      <td>84</td>\n",
              "      <td>65</td>\n",
              "      <td>406</td>\n",
              "      <td>DC Comics</td>\n",
              "    </tr>\n",
              "    <tr>\n",
              "      <th>3</th>\n",
              "      <td>Abomination</td>\n",
              "      <td>bad</td>\n",
              "      <td>63</td>\n",
              "      <td>80</td>\n",
              "      <td>53</td>\n",
              "      <td>90</td>\n",
              "      <td>55</td>\n",
              "      <td>95</td>\n",
              "      <td>436</td>\n",
              "      <td>Marvel Comics</td>\n",
              "    </tr>\n",
              "    <tr>\n",
              "      <th>4</th>\n",
              "      <td>Abraxas</td>\n",
              "      <td>bad</td>\n",
              "      <td>88</td>\n",
              "      <td>100</td>\n",
              "      <td>83</td>\n",
              "      <td>99</td>\n",
              "      <td>100</td>\n",
              "      <td>56</td>\n",
              "      <td>526</td>\n",
              "      <td>Marvel Comics</td>\n",
              "    </tr>\n",
              "  </tbody>\n",
              "</table>\n",
              "</div>"
            ],
            "text/plain": [
              "          Name Alignment  Intelligence  ...  Combat  Total          Publisher\n",
              "0       A-Bomb      good            38  ...      64    316      Marvel Comics\n",
              "1   Abe Sapien      good            88  ...      85    299  Dark Horse Comics\n",
              "2     Abin Sur      good            50  ...      65    406          DC Comics\n",
              "3  Abomination       bad            63  ...      95    436      Marvel Comics\n",
              "4      Abraxas       bad            88  ...      56    526      Marvel Comics\n",
              "\n",
              "[5 rows x 10 columns]"
            ]
          },
          "metadata": {
            "tags": []
          },
          "execution_count": 15
        }
      ]
    },
    {
      "cell_type": "code",
      "metadata": {
        "colab": {
          "base_uri": "https://localhost:8080/"
        },
        "id": "M2k7vIYb56fh",
        "outputId": "7c72eb87-4253-4431-85c5-fdbc30bb760c"
      },
      "source": [
        "## 결측치 확인\n",
        "\n",
        "merge_df.isnull().sum()\n",
        "\n",
        "# Publisher 결측치 발견"
      ],
      "execution_count": 16,
      "outputs": [
        {
          "output_type": "execute_result",
          "data": {
            "text/plain": [
              "Name            0\n",
              "Alignment       0\n",
              "Intelligence    0\n",
              "Strength        0\n",
              "Speed           0\n",
              "Durability      0\n",
              "Power           0\n",
              "Combat          0\n",
              "Total           0\n",
              "Publisher       7\n",
              "dtype: int64"
            ]
          },
          "metadata": {
            "tags": []
          },
          "execution_count": 16
        }
      ]
    },
    {
      "cell_type": "code",
      "metadata": {
        "colab": {
          "base_uri": "https://localhost:8080/"
        },
        "id": "TEbEIW5w9OZX",
        "outputId": "9f9f6094-e21c-4fc5-84cf-c5a682809f80"
      },
      "source": [
        "merge_df['Publisher'].value_counts(dropna=False)"
      ],
      "execution_count": 17,
      "outputs": [
        {
          "output_type": "execute_result",
          "data": {
            "text/plain": [
              "Marvel Comics        347\n",
              "DC Comics            171\n",
              "NBC - Heroes          19\n",
              "Image Comics          13\n",
              "Dark Horse Comics      8\n",
              "NaN                    7\n",
              "HarperCollins          6\n",
              "Team Epic TV           5\n",
              "SyFy                   5\n",
              "Icon Comics            4\n",
              "ABC Studios            4\n",
              "Wildstorm              2\n",
              "Shueisha               2\n",
              "Microsoft              1\n",
              "Sony Pictures          1\n",
              "Hanna-Barbera          1\n",
              "Universal Studios      1\n",
              "Name: Publisher, dtype: int64"
            ]
          },
          "metadata": {
            "tags": []
          },
          "execution_count": 17
        }
      ]
    },
    {
      "cell_type": "code",
      "metadata": {
        "colab": {
          "base_uri": "https://localhost:8080/"
        },
        "id": "8IjG9zNP6KRv",
        "outputId": "a4767571-f045-48f0-8802-5e1ff758f79f"
      },
      "source": [
        "## NaN -> etc.\n",
        "\n",
        "merge_df['Publisher'] = merge_df['Publisher'].fillna('etc.')\n",
        "merge_df['Publisher'].value_counts(dropna=False)"
      ],
      "execution_count": 18,
      "outputs": [
        {
          "output_type": "execute_result",
          "data": {
            "text/plain": [
              "Marvel Comics        347\n",
              "DC Comics            171\n",
              "NBC - Heroes          19\n",
              "Image Comics          13\n",
              "Dark Horse Comics      8\n",
              "etc.                   7\n",
              "HarperCollins          6\n",
              "Team Epic TV           5\n",
              "SyFy                   5\n",
              "Icon Comics            4\n",
              "ABC Studios            4\n",
              "Shueisha               2\n",
              "Wildstorm              2\n",
              "Hanna-Barbera          1\n",
              "Sony Pictures          1\n",
              "Universal Studios      1\n",
              "Microsoft              1\n",
              "Name: Publisher, dtype: int64"
            ]
          },
          "metadata": {
            "tags": []
          },
          "execution_count": 18
        }
      ]
    },
    {
      "cell_type": "markdown",
      "metadata": {
        "id": "ail6rwCr-_Z1"
      },
      "source": [
        "### 어떤 코믹스 회사의 캐릭터들이 능력치 합의 평균이 가장 큰가?"
      ]
    },
    {
      "cell_type": "code",
      "metadata": {
        "colab": {
          "base_uri": "https://localhost:8080/",
          "height": 235
        },
        "id": "3VYvcZwz8cmP",
        "outputId": "ad5a88a6-978d-4409-f169-6e524e5af8de"
      },
      "source": [
        "merge_df[['Publisher', 'Total']].groupby(['Publisher']).mean().sort_values('Total', ascending=False).head(5)"
      ],
      "execution_count": 19,
      "outputs": [
        {
          "output_type": "execute_result",
          "data": {
            "text/html": [
              "<div>\n",
              "<style scoped>\n",
              "    .dataframe tbody tr th:only-of-type {\n",
              "        vertical-align: middle;\n",
              "    }\n",
              "\n",
              "    .dataframe tbody tr th {\n",
              "        vertical-align: top;\n",
              "    }\n",
              "\n",
              "    .dataframe thead th {\n",
              "        text-align: right;\n",
              "    }\n",
              "</style>\n",
              "<table border=\"1\" class=\"dataframe\">\n",
              "  <thead>\n",
              "    <tr style=\"text-align: right;\">\n",
              "      <th></th>\n",
              "      <th>Total</th>\n",
              "    </tr>\n",
              "    <tr>\n",
              "      <th>Publisher</th>\n",
              "      <th></th>\n",
              "    </tr>\n",
              "  </thead>\n",
              "  <tbody>\n",
              "    <tr>\n",
              "      <th>Shueisha</th>\n",
              "      <td>481.500000</td>\n",
              "    </tr>\n",
              "    <tr>\n",
              "      <th>Microsoft</th>\n",
              "      <td>425.000000</td>\n",
              "    </tr>\n",
              "    <tr>\n",
              "      <th>Sony Pictures</th>\n",
              "      <td>398.000000</td>\n",
              "    </tr>\n",
              "    <tr>\n",
              "      <th>DC Comics</th>\n",
              "      <td>254.888889</td>\n",
              "    </tr>\n",
              "    <tr>\n",
              "      <th>Marvel Comics</th>\n",
              "      <td>243.357349</td>\n",
              "    </tr>\n",
              "  </tbody>\n",
              "</table>\n",
              "</div>"
            ],
            "text/plain": [
              "                    Total\n",
              "Publisher                \n",
              "Shueisha       481.500000\n",
              "Microsoft      425.000000\n",
              "Sony Pictures  398.000000\n",
              "DC Comics      254.888889\n",
              "Marvel Comics  243.357349"
            ]
          },
          "metadata": {
            "tags": []
          },
          "execution_count": 19
        }
      ]
    },
    {
      "cell_type": "markdown",
      "metadata": {
        "id": "TsKJQHQTBESN"
      },
      "source": [
        "`Shueisha` 캐릭터들의 능력치 합이 제일 크고, `Microsoft`, `Sony Pictures` 순이다.  \n",
        "캐릭터 수가 많다고 능력치 합의 평균도 높은 건 아니다."
      ]
    },
    {
      "cell_type": "markdown",
      "metadata": {
        "id": "p8EucGcP_v6P"
      },
      "source": [
        "### 좋은 캐릭터와 나쁜 캐릭터가 격돌할 때 어떤 캐릭터 진영이 승리할 것인가?\n",
        "  * 단, 불의를 못참는 중립 캐릭터들은 중립캐릭터가 없었을 당시에 열세인 팀에 가담한다."
      ]
    },
    {
      "cell_type": "code",
      "metadata": {
        "colab": {
          "base_uri": "https://localhost:8080/",
          "height": 173
        },
        "id": "iOUMrrqYAjCU",
        "outputId": "568b4755-9570-4c02-e933-3d69c9fb47e6"
      },
      "source": [
        "stats_df[['Alignment', 'Total']].groupby(['Alignment']).mean()"
      ],
      "execution_count": 20,
      "outputs": [
        {
          "output_type": "execute_result",
          "data": {
            "text/html": [
              "<div>\n",
              "<style scoped>\n",
              "    .dataframe tbody tr th:only-of-type {\n",
              "        vertical-align: middle;\n",
              "    }\n",
              "\n",
              "    .dataframe tbody tr th {\n",
              "        vertical-align: top;\n",
              "    }\n",
              "\n",
              "    .dataframe thead th {\n",
              "        text-align: right;\n",
              "    }\n",
              "</style>\n",
              "<table border=\"1\" class=\"dataframe\">\n",
              "  <thead>\n",
              "    <tr style=\"text-align: right;\">\n",
              "      <th></th>\n",
              "      <th>Total</th>\n",
              "    </tr>\n",
              "    <tr>\n",
              "      <th>Alignment</th>\n",
              "      <th></th>\n",
              "    </tr>\n",
              "  </thead>\n",
              "  <tbody>\n",
              "    <tr>\n",
              "      <th>bad</th>\n",
              "      <td>247.212121</td>\n",
              "    </tr>\n",
              "    <tr>\n",
              "      <th>good</th>\n",
              "      <td>214.990741</td>\n",
              "    </tr>\n",
              "    <tr>\n",
              "      <th>neutral</th>\n",
              "      <td>355.363636</td>\n",
              "    </tr>\n",
              "  </tbody>\n",
              "</table>\n",
              "</div>"
            ],
            "text/plain": [
              "                Total\n",
              "Alignment            \n",
              "bad        247.212121\n",
              "good       214.990741\n",
              "neutral    355.363636"
            ]
          },
          "metadata": {
            "tags": []
          },
          "execution_count": 20
        }
      ]
    },
    {
      "cell_type": "markdown",
      "metadata": {
        "id": "GxcZ9UgnAwRc"
      },
      "source": [
        "나쁜 캐릭터 팀의 능력치 합의 평균이 더 크기 때문에 중립 캐릭터들은 좋은 캐릭터 팀에 합세한다."
      ]
    },
    {
      "cell_type": "code",
      "metadata": {
        "colab": {
          "base_uri": "https://localhost:8080/"
        },
        "id": "4-y3RTalBvDN",
        "outputId": "2b6f4bce-71e9-442d-a0db-2a3a6ba8c0d3"
      },
      "source": [
        "stats_df[(stats_df.Alignment == 'good') | (stats_df.Alignment == 'neutral')]['Total'].mean()"
      ],
      "execution_count": 21,
      "outputs": [
        {
          "output_type": "execute_result",
          "data": {
            "text/plain": [
              "218.4762979683973"
            ]
          },
          "metadata": {
            "tags": []
          },
          "execution_count": 21
        }
      ]
    },
    {
      "cell_type": "markdown",
      "metadata": {
        "id": "D-dGFmZ7Dyu6"
      },
      "source": [
        "중립 캐릭터가 열세인 좋은 캐릭터 팀에 합세해도 나쁜 캐릭터 팀보다 능력치 합의 평균이 낮다.  \n",
        "결국, 나쁜 캐릭터 진영이 승리한다."
      ]
    }
  ]
}